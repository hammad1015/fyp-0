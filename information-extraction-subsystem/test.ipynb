{
 "cells": [
  {
   "cell_type": "code",
   "execution_count": 1,
   "metadata": {},
   "outputs": [],
   "source": [
    "import pprint\n",
    "\n",
    "print = pprint.PrettyPrinter(indent= 4).pprint"
   ]
  },
  {
   "cell_type": "code",
   "execution_count": 2,
   "metadata": {},
   "outputs": [],
   "source": [
    "import json\n",
    "from typing import Dict\n",
    "\n",
    "class EmailReader:\n",
    "    def fetchEmail(self, emailId:int) -> Dict[str,str]:\n",
    "\n",
    "        return json.load(open('emailReader/out.json'))[emailId]"
   ]
  },
  {
   "cell_type": "code",
   "execution_count": 3,
   "metadata": {},
   "outputs": [
    {
     "name": "stdout",
     "output_type": "stream",
     "text": [
      "2022-05-16 02:42:54,031 loading file C:\\Users\\SKY GAMING STORE\\.flair\\models\\ner-english-ontonotes-large\\2da6c2cdd76e59113033adf670340bfd820f0301ae2e39204d67ba2dc276cc28.ec1bdb304b6c66111532c3b1fc6e522460ae73f1901848a4d0362cdf9760edb1\n",
      "2022-05-16 02:43:10,500 loading file C:\\Users\\SKY GAMING STORE\\.flair\\models\\upos-english\\3489359470b8c3b3c6419514a5f1e27ee827089d6a6b345b4fc2cb5f29b70589.15e4b80e0db9ddfa092bb2a03d56050575455bb50729e3c68617a4aa2f7025ec\n"
     ]
    }
   ],
   "source": [
    "import time\n",
    "import pandas as pd\n",
    "\n",
    "# from emailReader.emailReader  import EmailReader\n",
    "from model.model        import Model\n",
    "\n",
    "emailReader = EmailReader()\n",
    "model       = Model()"
   ]
  },
  {
   "cell_type": "code",
   "execution_count": 4,
   "metadata": {},
   "outputs": [],
   "source": [
    "n = 10\n",
    "emails = pd.DataFrame([\n",
    "    emailReader.fetchEmail(i)\n",
    "    for i in range(n)\n",
    "])\n",
    "\n",
    "emails['body'  ]    = model.clean      (emails['body'])\n",
    "# emails['entities']  = model.predict_ner(emails['body'])\n",
    "# emails['relations'] = model.predict_pos(emails['body'])\n",
    "# temp = model.predict_ner(emails['body'])\n",
    "# temp = model.predict_pos(emails['body'])\n",
    "\n",
    "entities, relations = model.predict(emails['body'])\n",
    "\n"
   ]
  },
  {
   "cell_type": "code",
   "execution_count": 5,
   "metadata": {},
   "outputs": [
    {
     "data": {
      "text/plain": [
       "0    [{'text': 'Abdul', 'start_pos': 4, 'end_pos': ...\n",
       "1    [{'text': 'Microsoft', 'start_pos': 0, 'end_po...\n",
       "2    [{'text': 'Microsoft', 'start_pos': 1, 'end_po...\n",
       "3    [{'text': 'Google', 'start_pos': 8, 'end_pos':...\n",
       "4    [{'text': 'Microsoft', 'start_pos': 11, 'end_p...\n",
       "5    [{'text': 'Google', 'start_pos': 8, 'end_pos':...\n",
       "6    [{'text': 'Google', 'start_pos': 8, 'end_pos':...\n",
       "7    [{'text': 'LinkedIn', 'start_pos': 26, 'end_po...\n",
       "8                                                   []\n",
       "9    [{'text': 'Google', 'start_pos': 8, 'end_pos':...\n",
       "Name: body, dtype: object"
      ]
     },
     "execution_count": 5,
     "metadata": {},
     "output_type": "execute_result"
    }
   ],
   "source": [
    "entities"
   ]
  },
  {
   "cell_type": "code",
   "execution_count": 6,
   "metadata": {},
   "outputs": [
    {
     "data": {
      "text/plain": [
       "0    [{'entity_A': {'text': 'Abdul', 'start_pos': 4...\n",
       "1                                                   []\n",
       "2    [{'entity_A': {'text': 'Microsoft', 'start_pos...\n",
       "3    [{'entity_A': {'text': '2021', 'start_pos': 44...\n",
       "4                                                   []\n",
       "5    [{'entity_A': {'text': 'nonGoogle', 'start_pos...\n",
       "6    [{'entity_A': {'text': '2022', 'start_pos': 41...\n",
       "7    [{'entity_A': {'text': 'LinkedIn', 'start_pos'...\n",
       "8                                                   []\n",
       "9    [{'entity_A': {'text': 'Google', 'start_pos': ...\n",
       "Name: body, dtype: object"
      ]
     },
     "execution_count": 6,
     "metadata": {},
     "output_type": "execute_result"
    }
   ],
   "source": [
    "relations"
   ]
  },
  {
   "cell_type": "code",
   "execution_count": 1,
   "metadata": {},
   "outputs": [
    {
     "name": "stdout",
     "output_type": "stream",
     "text": [
      "2022-05-18 00:15:17,812 loading file C:\\Users\\SKY GAMING STORE\\.flair\\models\\ner-english-ontonotes-large\\2da6c2cdd76e59113033adf670340bfd820f0301ae2e39204d67ba2dc276cc28.ec1bdb304b6c66111532c3b1fc6e522460ae73f1901848a4d0362cdf9760edb1\n",
      "2022-05-18 00:15:37,293 loading file C:\\Users\\SKY GAMING STORE\\.flair\\models\\upos-english\\3489359470b8c3b3c6419514a5f1e27ee827089d6a6b345b4fc2cb5f29b70589.15e4b80e0db9ddfa092bb2a03d56050575455bb50729e3c68617a4aa2f7025ec\n"
     ]
    }
   ],
   "source": [
    "import time\n",
    "import pandas as pd\n",
    "\n",
    "from emailReader.emailReader    import EmailReader\n",
    "from model.model                import Model\n",
    "from DAO.DAO                    import DAO\n",
    "\n",
    "\n",
    "############################################### \n",
    "# temporary code in case email reader class is not working\n",
    "# import json\n",
    "# from typing import Dict\n",
    "\n",
    "# class EmailReader:\n",
    "#     def fetchEmail(self, emailId:int) -> Dict[str,str]:\n",
    "\n",
    "#         return json.load(open('emailReader/out.json'))[emailId]\n",
    "\n",
    "################################################\n",
    "\n",
    "emailReader = EmailReader()\n",
    "model       = Model()\n",
    "dao         = DAO()\n",
    "\n",
    "\n"
   ]
  },
  {
   "cell_type": "code",
   "execution_count": 9,
   "metadata": {},
   "outputs": [
    {
     "ename": "error",
     "evalue": "command LOGIN illegal in state SELECTED, only allowed in states NONAUTH",
     "output_type": "error",
     "traceback": [
      "\u001b[1;31m---------------------------------------------------------------------------\u001b[0m",
      "\u001b[1;31merror\u001b[0m                                     Traceback (most recent call last)",
      "\u001b[1;32mC:\\Users\\SKYGAM~1\\AppData\\Local\\Temp/ipykernel_12232/1974560232.py\u001b[0m in \u001b[0;36m<module>\u001b[1;34m\u001b[0m\n\u001b[1;32m----> 1\u001b[1;33m \u001b[0memailReader\u001b[0m\u001b[1;33m.\u001b[0m\u001b[0mlogin\u001b[0m\u001b[1;33m(\u001b[0m\u001b[1;33m)\u001b[0m\u001b[1;33m\u001b[0m\u001b[1;33m\u001b[0m\u001b[0m\n\u001b[0m\u001b[0;32m      2\u001b[0m \u001b[0mtotalEmails\u001b[0m  \u001b[1;33m=\u001b[0m \u001b[0memailReader\u001b[0m\u001b[1;33m.\u001b[0m\u001b[0mgetTotalEmails\u001b[0m\u001b[1;33m(\u001b[0m\u001b[1;33m)\u001b[0m\u001b[1;33m\u001b[0m\u001b[1;33m\u001b[0m\u001b[0m\n\u001b[0;32m      3\u001b[0m \u001b[0mnReadEmails\u001b[0m  \u001b[1;33m=\u001b[0m \u001b[0mdao\u001b[0m\u001b[1;33m.\u001b[0m\u001b[0mgetNumReadEmails\u001b[0m\u001b[1;33m(\u001b[0m\u001b[1;33m)\u001b[0m\u001b[1;33m\u001b[0m\u001b[1;33m\u001b[0m\u001b[0m\n\u001b[0;32m      4\u001b[0m \u001b[1;33m\u001b[0m\u001b[0m\n\u001b[0;32m      5\u001b[0m emails = pd.DataFrame([\n",
      "\u001b[1;32me:\\mega\\FYP\\fyp-mac-code\\emailReader\\emailReader.py\u001b[0m in \u001b[0;36mlogin\u001b[1;34m(self)\u001b[0m\n\u001b[0;32m     34\u001b[0m \u001b[1;33m\u001b[0m\u001b[0m\n\u001b[0;32m     35\u001b[0m     \u001b[1;32mdef\u001b[0m \u001b[0mlogin\u001b[0m\u001b[1;33m(\u001b[0m\u001b[0mself\u001b[0m\u001b[1;33m)\u001b[0m\u001b[1;33m:\u001b[0m\u001b[1;33m\u001b[0m\u001b[1;33m\u001b[0m\u001b[0m\n\u001b[1;32m---> 36\u001b[1;33m         self.imap.login(\n\u001b[0m\u001b[0;32m     37\u001b[0m             \u001b[0muser\u001b[0m    \u001b[1;33m=\u001b[0m \u001b[0memailReader\u001b[0m\u001b[1;33m.\u001b[0m\u001b[0mcredentials\u001b[0m\u001b[1;33m.\u001b[0m\u001b[0musername\u001b[0m\u001b[1;33m,\u001b[0m\u001b[1;33m\u001b[0m\u001b[1;33m\u001b[0m\u001b[0m\n\u001b[0;32m     38\u001b[0m             \u001b[0mpassword\u001b[0m\u001b[1;33m=\u001b[0m \u001b[0memailReader\u001b[0m\u001b[1;33m.\u001b[0m\u001b[0mcredentials\u001b[0m\u001b[1;33m.\u001b[0m\u001b[0mpassword\u001b[0m\u001b[1;33m\u001b[0m\u001b[1;33m\u001b[0m\u001b[0m\n",
      "\u001b[1;32mF:\\Program Files\\miniconda\\envs\\fyp\\lib\\imaplib.py\u001b[0m in \u001b[0;36mlogin\u001b[1;34m(self, user, password)\u001b[0m\n\u001b[0;32m    608\u001b[0m         \u001b[0mNB\u001b[0m\u001b[1;33m:\u001b[0m \u001b[1;34m'password'\u001b[0m \u001b[0mwill\u001b[0m \u001b[0mbe\u001b[0m \u001b[0mquoted\u001b[0m\u001b[1;33m.\u001b[0m\u001b[1;33m\u001b[0m\u001b[1;33m\u001b[0m\u001b[0m\n\u001b[0;32m    609\u001b[0m         \"\"\"\n\u001b[1;32m--> 610\u001b[1;33m         \u001b[0mtyp\u001b[0m\u001b[1;33m,\u001b[0m \u001b[0mdat\u001b[0m \u001b[1;33m=\u001b[0m \u001b[0mself\u001b[0m\u001b[1;33m.\u001b[0m\u001b[0m_simple_command\u001b[0m\u001b[1;33m(\u001b[0m\u001b[1;34m'LOGIN'\u001b[0m\u001b[1;33m,\u001b[0m \u001b[0muser\u001b[0m\u001b[1;33m,\u001b[0m \u001b[0mself\u001b[0m\u001b[1;33m.\u001b[0m\u001b[0m_quote\u001b[0m\u001b[1;33m(\u001b[0m\u001b[0mpassword\u001b[0m\u001b[1;33m)\u001b[0m\u001b[1;33m)\u001b[0m\u001b[1;33m\u001b[0m\u001b[1;33m\u001b[0m\u001b[0m\n\u001b[0m\u001b[0;32m    611\u001b[0m         \u001b[1;32mif\u001b[0m \u001b[0mtyp\u001b[0m \u001b[1;33m!=\u001b[0m \u001b[1;34m'OK'\u001b[0m\u001b[1;33m:\u001b[0m\u001b[1;33m\u001b[0m\u001b[1;33m\u001b[0m\u001b[0m\n\u001b[0;32m    612\u001b[0m             \u001b[1;32mraise\u001b[0m \u001b[0mself\u001b[0m\u001b[1;33m.\u001b[0m\u001b[0merror\u001b[0m\u001b[1;33m(\u001b[0m\u001b[0mdat\u001b[0m\u001b[1;33m[\u001b[0m\u001b[1;33m-\u001b[0m\u001b[1;36m1\u001b[0m\u001b[1;33m]\u001b[0m\u001b[1;33m)\u001b[0m\u001b[1;33m\u001b[0m\u001b[1;33m\u001b[0m\u001b[0m\n",
      "\u001b[1;32mF:\\Program Files\\miniconda\\envs\\fyp\\lib\\imaplib.py\u001b[0m in \u001b[0;36m_simple_command\u001b[1;34m(self, name, *args)\u001b[0m\n\u001b[0;32m   1228\u001b[0m     \u001b[1;32mdef\u001b[0m \u001b[0m_simple_command\u001b[0m\u001b[1;33m(\u001b[0m\u001b[0mself\u001b[0m\u001b[1;33m,\u001b[0m \u001b[0mname\u001b[0m\u001b[1;33m,\u001b[0m \u001b[1;33m*\u001b[0m\u001b[0margs\u001b[0m\u001b[1;33m)\u001b[0m\u001b[1;33m:\u001b[0m\u001b[1;33m\u001b[0m\u001b[1;33m\u001b[0m\u001b[0m\n\u001b[0;32m   1229\u001b[0m \u001b[1;33m\u001b[0m\u001b[0m\n\u001b[1;32m-> 1230\u001b[1;33m         \u001b[1;32mreturn\u001b[0m \u001b[0mself\u001b[0m\u001b[1;33m.\u001b[0m\u001b[0m_command_complete\u001b[0m\u001b[1;33m(\u001b[0m\u001b[0mname\u001b[0m\u001b[1;33m,\u001b[0m \u001b[0mself\u001b[0m\u001b[1;33m.\u001b[0m\u001b[0m_command\u001b[0m\u001b[1;33m(\u001b[0m\u001b[0mname\u001b[0m\u001b[1;33m,\u001b[0m \u001b[1;33m*\u001b[0m\u001b[0margs\u001b[0m\u001b[1;33m)\u001b[0m\u001b[1;33m)\u001b[0m\u001b[1;33m\u001b[0m\u001b[1;33m\u001b[0m\u001b[0m\n\u001b[0m\u001b[0;32m   1231\u001b[0m \u001b[1;33m\u001b[0m\u001b[0m\n\u001b[0;32m   1232\u001b[0m \u001b[1;33m\u001b[0m\u001b[0m\n",
      "\u001b[1;32mF:\\Program Files\\miniconda\\envs\\fyp\\lib\\imaplib.py\u001b[0m in \u001b[0;36m_command\u001b[1;34m(self, name, *args)\u001b[0m\n\u001b[0;32m    966\u001b[0m         \u001b[1;32mif\u001b[0m \u001b[0mself\u001b[0m\u001b[1;33m.\u001b[0m\u001b[0mstate\u001b[0m \u001b[1;32mnot\u001b[0m \u001b[1;32min\u001b[0m \u001b[0mCommands\u001b[0m\u001b[1;33m[\u001b[0m\u001b[0mname\u001b[0m\u001b[1;33m]\u001b[0m\u001b[1;33m:\u001b[0m\u001b[1;33m\u001b[0m\u001b[1;33m\u001b[0m\u001b[0m\n\u001b[0;32m    967\u001b[0m             \u001b[0mself\u001b[0m\u001b[1;33m.\u001b[0m\u001b[0mliteral\u001b[0m \u001b[1;33m=\u001b[0m \u001b[1;32mNone\u001b[0m\u001b[1;33m\u001b[0m\u001b[1;33m\u001b[0m\u001b[0m\n\u001b[1;32m--> 968\u001b[1;33m             raise self.error(\"command %s illegal in state %s, \"\n\u001b[0m\u001b[0;32m    969\u001b[0m                              \u001b[1;34m\"only allowed in states %s\"\u001b[0m \u001b[1;33m%\u001b[0m\u001b[1;33m\u001b[0m\u001b[1;33m\u001b[0m\u001b[0m\n\u001b[0;32m    970\u001b[0m                              (name, self.state,\n",
      "\u001b[1;31merror\u001b[0m: command LOGIN illegal in state SELECTED, only allowed in states NONAUTH"
     ]
    }
   ],
   "source": [
    "emailReader.login()\n",
    "totalEmails  = emailReader.getTotalEmails()\n",
    "nReadEmails  = dao.getNumReadEmails()\n",
    "\n",
    "emails = pd.DataFrame([\n",
    "    emailReader.fetchEmail(i)\n",
    "    for i in range(nReadEmails, totalEmails)\n",
    "])\n",
    "\n",
    "emails['body'     ] = model.clean(emails['body'])\n",
    "\n",
    "entities, relations = model.predict(emails['body'])\n",
    "\n",
    "emails['entities' ] = entities\n",
    "emails['relations'] = relations\n",
    "\n",
    "\n",
    "dao.insertEmails(emails.to_dict('records'))\n",
    "\n",
    "# emails.to_json('out.json', orient= 'records', indent= 4)\n",
    "# emails.to_json('out.json', orient= 'records', indent= 4)\n",
    "\n",
    "# update readEmails in database\n",
    "\n",
    "# time.sleep(60)\n",
    "print('iteration done')\n",
    "# exit()"
   ]
  },
  {
   "cell_type": "code",
   "execution_count": null,
   "metadata": {},
   "outputs": [],
   "source": [
    "dao.insertEmails(emails.to_dict('records'))\n"
   ]
  },
  {
   "cell_type": "code",
   "execution_count": 8,
   "metadata": {},
   "outputs": [
    {
     "data": {
      "text/plain": [
       "{'_id': 1,\n",
       " 'date': 'Wed, 11 May 2022 14:55:04 GMT',\n",
       " 'from': {'name': 'Google', 'emailAddress': 'no-reply@accounts.google.com'},\n",
       " 'subject': 'Critical security alert',\n",
       " 'body': \"[image: Google] Access for less secure apps setting has been turned on mailex2022@gmail.com Access for less secure apps setting has been turned on for your Google Account mailex2022@gmail.com. If you didn't change it, you should check what happened. Check activity You can also see security activity at You received this email to let you know about important changes to your Google Account and services. © 2022 Google LLC, 1600 Amphitheatre Parkway, Mountain View, CA 94043, USA \",\n",
       " 'entities': [{'text': 'Google',\n",
       "   'start_pos': 8,\n",
       "   'end_pos': 14,\n",
       "   'labels': {'value': 'ORG', 'confidence': 0.9999915361404419}},\n",
       "  {'text': '2022',\n",
       "   'start_pos': 406,\n",
       "   'end_pos': 410,\n",
       "   'labels': {'value': 'DATE', 'confidence': 0.9997610449790955}},\n",
       "  {'text': 'Google LLC',\n",
       "   'start_pos': 411,\n",
       "   'end_pos': 421,\n",
       "   'labels': {'value': 'ORG', 'confidence': 0.9999893307685852}},\n",
       "  {'text': '1600',\n",
       "   'start_pos': 423,\n",
       "   'end_pos': 427,\n",
       "   'labels': {'value': 'CARDINAL', 'confidence': 0.9932003617286682}},\n",
       "  {'text': 'Amphitheatre Parkway',\n",
       "   'start_pos': 428,\n",
       "   'end_pos': 448,\n",
       "   'labels': {'value': 'FAC', 'confidence': 0.7529691457748413}},\n",
       "  {'text': 'Mountain View',\n",
       "   'start_pos': 450,\n",
       "   'end_pos': 463,\n",
       "   'labels': {'value': 'GPE', 'confidence': 0.9999574422836304}},\n",
       "  {'text': 'CA',\n",
       "   'start_pos': 465,\n",
       "   'end_pos': 467,\n",
       "   'labels': {'value': 'GPE', 'confidence': 0.9947974681854248}},\n",
       "  {'text': '94043',\n",
       "   'start_pos': 468,\n",
       "   'end_pos': 473,\n",
       "   'labels': {'value': 'CARDINAL', 'confidence': 0.9998517036437988}},\n",
       "  {'text': 'USA',\n",
       "   'start_pos': 475,\n",
       "   'end_pos': 478,\n",
       "   'labels': {'value': 'GPE', 'confidence': 0.9999617338180542}}],\n",
       " 'relations': [{'entity_A': {'text': '2022',\n",
       "    'start_pos': 406,\n",
       "    'end_pos': 410,\n",
       "    'labels': {'value': 'DATE', 'confidence': 0.9997610449790955}},\n",
       "   'entity_B': {'text': 'Google LLC',\n",
       "    'start_pos': 411,\n",
       "    'end_pos': 421,\n",
       "    'labels': {'value': 'ORG', 'confidence': 0.9999893307685852}},\n",
       "   'relations': []},\n",
       "  {'entity_A': {'text': 'Google LLC',\n",
       "    'start_pos': 411,\n",
       "    'end_pos': 421,\n",
       "    'labels': {'value': 'ORG', 'confidence': 0.9999893307685852}},\n",
       "   'entity_B': {'text': '1600',\n",
       "    'start_pos': 423,\n",
       "    'end_pos': 427,\n",
       "    'labels': {'value': 'CARDINAL', 'confidence': 0.9932003617286682}},\n",
       "   'relations': []},\n",
       "  {'entity_A': {'text': '1600',\n",
       "    'start_pos': 423,\n",
       "    'end_pos': 427,\n",
       "    'labels': {'value': 'CARDINAL', 'confidence': 0.9932003617286682}},\n",
       "   'entity_B': {'text': 'Amphitheatre Parkway',\n",
       "    'start_pos': 428,\n",
       "    'end_pos': 448,\n",
       "    'labels': {'value': 'FAC', 'confidence': 0.7529691457748413}},\n",
       "   'relations': []},\n",
       "  {'entity_A': {'text': 'Amphitheatre Parkway',\n",
       "    'start_pos': 428,\n",
       "    'end_pos': 448,\n",
       "    'labels': {'value': 'FAC', 'confidence': 0.7529691457748413}},\n",
       "   'entity_B': {'text': 'Mountain View',\n",
       "    'start_pos': 450,\n",
       "    'end_pos': 463,\n",
       "    'labels': {'value': 'GPE', 'confidence': 0.9999574422836304}},\n",
       "   'relations': []},\n",
       "  {'entity_A': {'text': 'Mountain View',\n",
       "    'start_pos': 450,\n",
       "    'end_pos': 463,\n",
       "    'labels': {'value': 'GPE', 'confidence': 0.9999574422836304}},\n",
       "   'entity_B': {'text': 'CA',\n",
       "    'start_pos': 465,\n",
       "    'end_pos': 467,\n",
       "    'labels': {'value': 'GPE', 'confidence': 0.9947974681854248}},\n",
       "   'relations': []},\n",
       "  {'entity_A': {'text': 'CA',\n",
       "    'start_pos': 465,\n",
       "    'end_pos': 467,\n",
       "    'labels': {'value': 'GPE', 'confidence': 0.9947974681854248}},\n",
       "   'entity_B': {'text': '94043',\n",
       "    'start_pos': 468,\n",
       "    'end_pos': 473,\n",
       "    'labels': {'value': 'CARDINAL', 'confidence': 0.9998517036437988}},\n",
       "   'relations': []},\n",
       "  {'entity_A': {'text': '94043',\n",
       "    'start_pos': 468,\n",
       "    'end_pos': 473,\n",
       "    'labels': {'value': 'CARDINAL', 'confidence': 0.9998517036437988}},\n",
       "   'entity_B': {'text': 'USA',\n",
       "    'start_pos': 475,\n",
       "    'end_pos': 478,\n",
       "    'labels': {'value': 'GPE', 'confidence': 0.9999617338180542}},\n",
       "   'relations': []}]}"
      ]
     },
     "execution_count": 8,
     "metadata": {},
     "output_type": "execute_result"
    }
   ],
   "source": [
    "emails.to_dict('records')[1]"
   ]
  },
  {
   "cell_type": "code",
   "execution_count": null,
   "metadata": {},
   "outputs": [],
   "source": []
  }
 ],
 "metadata": {
  "interpreter": {
   "hash": "f5ab6251ae26c186d2cb93a3d1e5724ab769554af34f7f8f333c413fb354b315"
  },
  "kernelspec": {
   "display_name": "Python 3.9.7 64-bit ('fyp': conda)",
   "language": "python",
   "name": "python3"
  },
  "language_info": {
   "codemirror_mode": {
    "name": "ipython",
    "version": 3
   },
   "file_extension": ".py",
   "mimetype": "text/x-python",
   "name": "python",
   "nbconvert_exporter": "python",
   "pygments_lexer": "ipython3",
   "version": "3.9.7"
  },
  "orig_nbformat": 4
 },
 "nbformat": 4,
 "nbformat_minor": 2
}
